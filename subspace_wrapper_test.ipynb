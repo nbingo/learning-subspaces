{
 "cells": [
  {
   "cell_type": "code",
   "execution_count": 1,
   "id": "7ce241b3-5c75-44a6-973e-1141f44a43a7",
   "metadata": {},
   "outputs": [],
   "source": [
    "import torch\n",
    "import torchvision.models as models\n",
    "import torch.nn as nn\n",
    "from subspace_wrapper import to_subspace_class\n",
    "import numpy as np"
   ]
  },
  {
   "cell_type": "code",
   "execution_count": 2,
   "id": "3f993f72-5473-4b9e-aa54-5ae876c53d86",
   "metadata": {},
   "outputs": [
    {
     "name": "stdout",
     "output_type": "stream",
     "text": [
      "Setting parameters from subspace parametrization...\n",
      "Done setting parameters!\n"
     ]
    },
    {
     "data": {
      "text/plain": "tensor([ 0.1496,  0.1241, -0.2891, -0.5524,  0.1146], grad_fn=<AddBackward0>)"
     },
     "execution_count": 2,
     "metadata": {},
     "output_type": "execute_result"
    }
   ],
   "source": [
    "SubLinear = to_subspace_class(nn.Linear, num_vertices=3, verbose=True)\n",
    "\n",
    "l = SubLinear(5,5)\n",
    "\n",
    "l(torch.rand(5))\n",
    "\n",
    "# SubResNet = to_subspace_class(models.ResNet, verbose=True)\n",
    "# sub_resnet18 = SubResNet(models.resnet.BasicBlock, [2, 2, 2, 2])\n",
    "\n",
    "# sub_resnet18.to('cuda:3')\n",
    "\n",
    "# out = sub_resnet18(torch.rand(100, 3, 224, 224).to('cuda:3'))"
   ]
  },
  {
   "cell_type": "code",
   "execution_count": 3,
   "id": "d1042be1-9201-48ff-afbe-c9daacf7aa5c",
   "metadata": {},
   "outputs": [],
   "source": [
    "ln = nn.Linear(5,5)"
   ]
  },
  {
   "cell_type": "code",
   "execution_count": 5,
   "id": "b68fa530-ce59-4f8e-8ad8-828d6b39395f",
   "metadata": {},
   "outputs": [
    {
     "data": {
      "text/plain": "odict_keys(['weight', 'bias', 'num_base_parameters', 'num_vertices', 'alpha', 'parametrization_points.0', 'parametrization_points.1', 'parametrization_points.2', 'parametrization_points.3', 'parametrization_points.4', 'parametrization_points.5'])"
     },
     "execution_count": 5,
     "metadata": {},
     "output_type": "execute_result"
    }
   ],
   "source": [
    "l.state_dict().keys()"
   ]
  },
  {
   "cell_type": "code",
   "execution_count": 7,
   "id": "6eb319f0-10f2-494a-aa16-dedb3f3c65a8",
   "metadata": {},
   "outputs": [
    {
     "data": {
      "text/plain": "odict_keys(['weight', 'bias'])"
     },
     "execution_count": 7,
     "metadata": {},
     "output_type": "execute_result"
    }
   ],
   "source": [
    "ln.state_dict().keys()"
   ]
  },
  {
   "cell_type": "code",
   "execution_count": 8,
   "id": "c840dce2-6c93-4fdf-9a5b-a2d2e43814c7",
   "metadata": {},
   "outputs": [
    {
     "name": "stdout",
     "output_type": "stream",
     "text": [
      "Found {'parametrization_points.3', 'parametrization_points.5', 'num_base_parameters', 'parametrization_points.0', 'parametrization_points.4', 'num_vertices', 'alpha', 'parametrization_points.2', 'parametrization_points.1'} missing keys, and assuming that they are copies for the parametrization so will fill up accordingly.\n"
     ]
    },
    {
     "ename": "KeyError",
     "evalue": "'weight'",
     "output_type": "error",
     "traceback": [
      "\u001B[0;31m---------------------------------------------------------------------------\u001B[0m",
      "\u001B[0;31mKeyError\u001B[0m                                  Traceback (most recent call last)",
      "\u001B[0;32m/var/folders/q5/z31ts0t56cd2sq_s48jl30b80000gn/T/ipykernel_40798/4022889354.py\u001B[0m in \u001B[0;36m<module>\u001B[0;34m\u001B[0m\n\u001B[0;32m----> 1\u001B[0;31m \u001B[0mincompatible_keys\u001B[0m \u001B[0;34m=\u001B[0m \u001B[0ml\u001B[0m\u001B[0;34m.\u001B[0m\u001B[0mload_state_dict\u001B[0m\u001B[0;34m(\u001B[0m\u001B[0mln\u001B[0m\u001B[0;34m.\u001B[0m\u001B[0mstate_dict\u001B[0m\u001B[0;34m(\u001B[0m\u001B[0;34m)\u001B[0m\u001B[0;34m)\u001B[0m\u001B[0;34m\u001B[0m\u001B[0;34m\u001B[0m\u001B[0m\n\u001B[0m\u001B[1;32m      2\u001B[0m \u001B[0mincompatible_keys\u001B[0m\u001B[0;34m\u001B[0m\u001B[0;34m\u001B[0m\u001B[0m\n\u001B[1;32m      3\u001B[0m \u001B[0;34m\u001B[0m\u001B[0m\n",
      "\u001B[0;32m~/PycharmProjects/learning-subspaces/subspace_wrapper.py\u001B[0m in \u001B[0;36mload_state_dict\u001B[0;34m(self, state_dict, strict)\u001B[0m\n\u001B[1;32m     64\u001B[0m                     \u001B[0mmissing_keys\u001B[0m \u001B[0;34m-=\u001B[0m \u001B[0;34m{\u001B[0m\u001B[0mname\u001B[0m\u001B[0;34m}\u001B[0m\u001B[0;34m\u001B[0m\u001B[0;34m\u001B[0m\u001B[0m\n\u001B[1;32m     65\u001B[0m                     \u001B[0;32mwith\u001B[0m \u001B[0mtorch\u001B[0m\u001B[0;34m.\u001B[0m\u001B[0mno_grad\u001B[0m\u001B[0;34m(\u001B[0m\u001B[0;34m)\u001B[0m\u001B[0;34m:\u001B[0m\u001B[0;34m\u001B[0m\u001B[0;34m\u001B[0m\u001B[0m\n\u001B[0;32m---> 66\u001B[0;31m                         \u001B[0mparam\u001B[0m\u001B[0;34m.\u001B[0m\u001B[0mcopy_\u001B[0m\u001B[0;34m(\u001B[0m\u001B[0mstate_dict\u001B[0m\u001B[0;34m[\u001B[0m\u001B[0mself\u001B[0m\u001B[0;34m.\u001B[0m\u001B[0mparam_point_keys_to_orig_state_keys\u001B[0m\u001B[0;34m[\u001B[0m\u001B[0mname\u001B[0m\u001B[0;34m]\u001B[0m\u001B[0;34m]\u001B[0m\u001B[0;34m)\u001B[0m\u001B[0;34m\u001B[0m\u001B[0;34m\u001B[0m\u001B[0m\n\u001B[0m\u001B[1;32m     67\u001B[0m             \u001B[0;32mreturn\u001B[0m \u001B[0mmissing_keys\u001B[0m\u001B[0;34m,\u001B[0m \u001B[0munexpected_keys\u001B[0m\u001B[0;34m\u001B[0m\u001B[0;34m\u001B[0m\u001B[0m\n\u001B[1;32m     68\u001B[0m \u001B[0;34m\u001B[0m\u001B[0m\n",
      "\u001B[0;31mKeyError\u001B[0m: 'weight'"
     ]
    }
   ],
   "source": [
    "incompatible_keys = l.load_state_dict(ln.state_dict())\n",
    "incompatible_keys"
   ]
  },
  {
   "cell_type": "code",
   "execution_count": 24,
   "outputs": [
    {
     "data": {
      "text/plain": "['weight', 'bias']"
     },
     "execution_count": 24,
     "metadata": {},
     "output_type": "execute_result"
    }
   ],
   "source": [
    "l.orig_parameter_names"
   ],
   "metadata": {
    "collapsed": false,
    "pycharm": {
     "name": "#%%\n"
    }
   }
  },
  {
   "cell_type": "code",
   "execution_count": 23,
   "outputs": [
    {
     "data": {
      "text/plain": "tensor([ 0.4136, -0.1971, -0.1073, -0.0292,  0.3968])"
     },
     "execution_count": 23,
     "metadata": {},
     "output_type": "execute_result"
    }
   ],
   "source": [
    "l.state_dict()['parametrization_points.4']"
   ],
   "metadata": {
    "collapsed": false,
    "pycharm": {
     "name": "#%%\n"
    }
   }
  },
  {
   "cell_type": "code",
   "execution_count": 17,
   "outputs": [
    {
     "data": {
      "text/plain": "tensor([-0.4161, -0.0038, -0.2463,  0.0211,  0.3537])"
     },
     "execution_count": 17,
     "metadata": {},
     "output_type": "execute_result"
    }
   ],
   "source": [
    "ln.state_dict()[l.param_point_keys_to_orig_state_keys['parametrization_points.4']]"
   ],
   "metadata": {
    "collapsed": false,
    "pycharm": {
     "name": "#%%\n"
    }
   }
  },
  {
   "cell_type": "code",
   "execution_count": 4,
   "id": "3860ee34-85c2-4ed9-b31d-c8570f74b276",
   "metadata": {},
   "outputs": [
    {
     "name": "stdout",
     "output_type": "stream",
     "text": [
      "Setting parameters from subspace parametrization...\n",
      "Done setting parameters!\n"
     ]
    }
   ],
   "source": [
    "device = 'cuda:3'\n",
    "SubspaceTransformer = to_subspace_class(nn.Transformer, num_vertices=1, verbose=True)\n",
    "transformer_model = SubspaceTransformer(nhead=16, num_encoder_layers=12).to(device)\n",
    "src = torch.rand((10, 32, 512)).to(device)\n",
    "tgt = torch.rand((20, 32, 512)).to(device)\n",
    "out = transformer_model(src, tgt)"
   ]
  },
  {
   "cell_type": "code",
   "execution_count": null,
   "id": "847ebe6e-7906-4731-9839-ee6eac97047c",
   "metadata": {},
   "outputs": [],
   "source": []
  },
  {
   "cell_type": "code",
   "execution_count": 3,
   "id": "f977cc32-783e-4084-987f-a83581aca904",
   "metadata": {},
   "outputs": [
    {
     "data": {
      "text/plain": [
       "torch.Size([20, 32, 512])"
      ]
     },
     "execution_count": 3,
     "metadata": {},
     "output_type": "execute_result"
    }
   ],
   "source": [
    "out.shape"
   ]
  },
  {
   "cell_type": "code",
   "execution_count": 6,
   "id": "03ee843a-b34b-482e-932b-7284d3129eb1",
   "metadata": {},
   "outputs": [
    {
     "data": {
      "text/plain": [
       "2"
      ]
     },
     "execution_count": 6,
     "metadata": {},
     "output_type": "execute_result"
    }
   ],
   "source": [
    "[1,2,3][np.floor(5/3).astype(int)]"
   ]
  },
  {
   "cell_type": "code",
   "execution_count": null,
   "id": "8b3da7c0-3a5b-43de-91dc-4b9dfe64b596",
   "metadata": {},
   "outputs": [],
   "source": []
  }
 ],
 "metadata": {
  "kernelspec": {
   "display_name": "Python 3 (ipykernel)",
   "language": "python",
   "name": "python3"
  },
  "language_info": {
   "codemirror_mode": {
    "name": "ipython",
    "version": 3
   },
   "file_extension": ".py",
   "mimetype": "text/x-python",
   "name": "python",
   "nbconvert_exporter": "python",
   "pygments_lexer": "ipython3",
   "version": "3.7.4"
  }
 },
 "nbformat": 4,
 "nbformat_minor": 5
}