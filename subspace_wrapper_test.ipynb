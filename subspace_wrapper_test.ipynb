{
 "cells": [
  {
   "cell_type": "code",
   "execution_count": null,
   "id": "99d5bb50-7f41-4f82-b2d4-03c944de4579",
   "metadata": {},
   "outputs": [
    {
     "name": "stdout",
     "output_type": "stream",
     "text": [
      "Setting parameters from subspace parametrization...\n",
      "Done setting parameters!\n"
     ]
    }
   ],
   "source": [
    "import torch\n",
    "import torchvision.models as models\n",
    "import torch.nn as nn\n",
    "from subspace_wrapper import to_subspace_class\n",
    "\n",
    "SubLinear = to_subspace_class(nn.Linear)\n",
    "\n",
    "l = SubLinear(5,5)\n",
    "\n",
    "l(torch.rand(5))\n",
    "\n",
    "SubResNet = to_subspace_class(models.ResNet, verbose=True)\n",
    "sub_resnet18 = SubResNet(models.resnet.BasicBlock, [2, 2, 2, 2])\n",
    "\n",
    "sub_resnet18.to('cpu')\n",
    "\n",
    "sub_resnet18(torch.rand(100, 3, 224, 224).to('cpu'))"
   ]
  },
  {
   "cell_type": "code",
   "execution_count": 4,
   "id": "040e72b5-28e2-40dc-85f3-8a143818ab7c",
   "metadata": {},
   "outputs": [
    {
     "name": "stdout",
     "output_type": "stream",
     "text": [
      "<class 'torch.Tensor'>\n",
      "<class 'torch.Tensor'>\n"
     ]
    }
   ],
   "source": [
    "for p in nn.Linear(5,5).parameters():\n",
    "    print(type(p.clone()))"
   ]
  },
  {
   "cell_type": "code",
   "execution_count": null,
   "id": "0254e175-5d4e-4bba-9a10-1a54084de122",
   "metadata": {},
   "outputs": [],
   "source": []
  }
 ],
 "metadata": {
  "kernelspec": {
   "display_name": "Python 3 (ipykernel)",
   "language": "python",
   "name": "python3"
  },
  "language_info": {
   "codemirror_mode": {
    "name": "ipython",
    "version": 3
   },
   "file_extension": ".py",
   "mimetype": "text/x-python",
   "name": "python",
   "nbconvert_exporter": "python",
   "pygments_lexer": "ipython3",
   "version": "3.7.4"
  }
 },
 "nbformat": 4,
 "nbformat_minor": 5
}
