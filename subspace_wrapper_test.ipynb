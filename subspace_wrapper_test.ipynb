{
 "cells": [
  {
   "cell_type": "code",
   "execution_count": 1,
   "id": "7ce241b3-5c75-44a6-973e-1141f44a43a7",
   "metadata": {},
   "outputs": [],
   "source": [
    "import torch\n",
    "import torchvision.models as models\n",
    "import torch.nn as nn\n",
    "from subspace_wrapper import to_subspace_class\n",
    "import numpy as np"
   ]
  },
  {
   "cell_type": "code",
   "execution_count": 1,
   "id": "3f993f72-5473-4b9e-aa54-5ae876c53d86",
   "metadata": {},
   "outputs": [
    {
     "name": "stdout",
     "output_type": "stream",
     "text": [
      "Setting parameters from subspace parametrization...\n",
      "Done setting parameters!\n"
     ]
    }
   ],
   "source": [
    "SubLinear = to_subspace_class(nn.Linear, num_vertices=3)\n",
    "\n",
    "l = SubLinear(5,5)\n",
    "\n",
    "l(torch.rand(5))\n",
    "\n",
    "SubResNet = to_subspace_class(models.ResNet, verbose=True)\n",
    "sub_resnet18 = SubResNet(models.resnet.BasicBlock, [2, 2, 2, 2])\n",
    "\n",
    "sub_resnet18.to('cuda:3')\n",
    "\n",
    "out = sub_resnet18(torch.rand(100, 3, 224, 224).to('cuda:3'))"
   ]
  },
  {
   "cell_type": "code",
   "execution_count": 4,
   "id": "3860ee34-85c2-4ed9-b31d-c8570f74b276",
   "metadata": {},
   "outputs": [
    {
     "name": "stdout",
     "output_type": "stream",
     "text": [
      "Setting parameters from subspace parametrization...\n",
      "Done setting parameters!\n"
     ]
    }
   ],
   "source": [
    "device = 'cuda:3'\n",
    "SubspaceTransformer = to_subspace_class(nn.Transformer, num_vertices=1, verbose=True)\n",
    "transformer_model = SubspaceTransformer(nhead=16, num_encoder_layers=12).to(device)\n",
    "src = torch.rand((10, 32, 512)).to(device)\n",
    "tgt = torch.rand((20, 32, 512)).to(device)\n",
    "out = transformer_model(src, tgt)"
   ]
  },
  {
   "cell_type": "code",
   "execution_count": 3,
   "id": "f977cc32-783e-4084-987f-a83581aca904",
   "metadata": {},
   "outputs": [
    {
     "data": {
      "text/plain": [
       "torch.Size([20, 32, 512])"
      ]
     },
     "execution_count": 3,
     "metadata": {},
     "output_type": "execute_result"
    }
   ],
   "source": [
    "out.shape"
   ]
  },
  {
   "cell_type": "code",
   "execution_count": 6,
   "id": "03ee843a-b34b-482e-932b-7284d3129eb1",
   "metadata": {},
   "outputs": [
    {
     "data": {
      "text/plain": [
       "2"
      ]
     },
     "execution_count": 6,
     "metadata": {},
     "output_type": "execute_result"
    }
   ],
   "source": [
    "[1,2,3][np.floor(5/3).astype(int)]"
   ]
  },
  {
   "cell_type": "code",
   "execution_count": null,
   "id": "8b3da7c0-3a5b-43de-91dc-4b9dfe64b596",
   "metadata": {},
   "outputs": [],
   "source": []
  }
 ],
 "metadata": {
  "kernelspec": {
   "display_name": "Python 3 (ipykernel)",
   "language": "python",
   "name": "python3"
  },
  "language_info": {
   "codemirror_mode": {
    "name": "ipython",
    "version": 3
   },
   "file_extension": ".py",
   "mimetype": "text/x-python",
   "name": "python",
   "nbconvert_exporter": "python",
   "pygments_lexer": "ipython3",
   "version": "3.7.4"
  }
 },
 "nbformat": 4,
 "nbformat_minor": 5
}
